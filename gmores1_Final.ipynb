{
 "cells": [
  {
   "cell_type": "markdown",
   "id": "60c52feb",
   "metadata": {},
   "source": [
    "# Predator-Prey Relationship Model"
   ]
  },
  {
   "cell_type": "markdown",
   "id": "ba0d3077",
   "metadata": {},
   "source": [
    "Define classes of the study organisms with values that affect thier populations."
   ]
  },
  {
   "cell_type": "code",
   "execution_count": 9,
   "id": "22da0050",
   "metadata": {},
   "outputs": [],
   "source": [
    "import random"
   ]
  },
  {
   "cell_type": "code",
   "execution_count": 4,
   "id": "c43cfc14",
   "metadata": {},
   "outputs": [],
   "source": [
    "class orca:\n",
    "    population = None\n",
    "    birthRate = None\n",
    "    deathRate = None\n",
    "    \n",
    "    def __init__(self, pop, birth, death):\n",
    "        self.population = pop\n",
    "        self.birthRate = birth\n",
    "        self.deathRate = death\n",
    "    def summarize(self):\n",
    "        print(\"The orca population is %f, with a birth rate of %f and a death rate of %f.\" % (self.population, self.birthRate, self.deathRate))"
   ]
  },
  {
   "cell_type": "code",
   "execution_count": 17,
   "id": "4a67d2fc",
   "metadata": {},
   "outputs": [
    {
     "name": "stdout",
     "output_type": "stream",
     "text": [
      "The orca population is 13.000000, with a birth rate of 0.874863 and a death rate of 0.971470.\n"
     ]
    }
   ],
   "source": [
    "orcaPop = random.randint(1,20)\n",
    "orcaBirth = random.random()\n",
    "orcaDeath = random.random()\n",
    "orcaValue1 = orca(orcaPop, orcaBirth, orcaDeath)\n",
    "orcaValue1.summarize()"
   ]
  },
  {
   "cell_type": "code",
   "execution_count": 2,
   "id": "b4dc9184",
   "metadata": {},
   "outputs": [],
   "source": [
    "class seal:\n",
    "    population = None\n",
    "    birthRate = None\n",
    "    deathRate = None\n",
    "    \n",
    "    def __init__(self, pop, birth, death):\n",
    "        self.population = pop\n",
    "        self.birthRate = birth\n",
    "        self.deathRate = death\n",
    "    def summarize(self):\n",
    "        print(\"The seal population is %f, with a birth rate of %f and a death rate of %f.\" % (self.population, self.birthRate, self.deathRate))"
   ]
  },
  {
   "cell_type": "code",
   "execution_count": 18,
   "id": "04e992f2",
   "metadata": {},
   "outputs": [
    {
     "name": "stdout",
     "output_type": "stream",
     "text": [
      "The seal population is 26.000000, with a birth rate of 0.921815 and a death rate of 0.929676.\n"
     ]
    }
   ],
   "source": [
    "sealPop = random.randint(10,100)\n",
    "sealBirth = random.random()\n",
    "sealDeath = random.random()\n",
    "sealValue1 = seal(sealPop, sealBirth, sealDeath)\n",
    "sealValue1.summarize()"
   ]
  },
  {
   "cell_type": "code",
   "execution_count": 1,
   "id": "0f228f8c",
   "metadata": {},
   "outputs": [],
   "source": [
    "class penguin:\n",
    "    population = None\n",
    "    birthRate = None\n",
    "    deathRate = None\n",
    "    \n",
    "    def __init__(self, pop, birth, death):\n",
    "        self.population = pop\n",
    "        self.birthRate = birth\n",
    "        self.deathRate = death\n",
    "    def summarize(self):\n",
    "        print(\"The penguin population is %f, with a birth rate of %f and a death rate of %f.\" % (self.population, self.birthRate, self.deathRate))"
   ]
  },
  {
   "cell_type": "code",
   "execution_count": 19,
   "id": "6dcc0f13",
   "metadata": {},
   "outputs": [
    {
     "name": "stdout",
     "output_type": "stream",
     "text": [
      "The penguin population is 49.000000, with a birth rate of 0.163028 and a death rate of 0.095259.\n"
     ]
    }
   ],
   "source": [
    "penguinPop = random.randint(40,200)\n",
    "penguinBirth = random.random()\n",
    "penguinDeath = random.random()\n",
    "penguinValue1 = penguin(penguinPop, penguinBirth, penguinDeath)\n",
    "penguinValue1.summarize()"
   ]
  },
  {
   "cell_type": "markdown",
   "id": "9a71fb99",
   "metadata": {},
   "source": [
    "Create arrays to store population values from each time step"
   ]
  },
  {
   "cell_type": "code",
   "execution_count": 23,
   "id": "7fd2ffb8",
   "metadata": {},
   "outputs": [],
   "source": [
    "t = []\n",
    "orcaData = []\n",
    "sealData = []\n",
    "penguinData = []"
   ]
  },
  {
   "cell_type": "markdown",
   "id": "32a5c6ff",
   "metadata": {},
   "source": [
    "Define a maximum carrying capacity of the study environment, along with desired times of measurement."
   ]
  },
  {
   "cell_type": "code",
   "execution_count": 25,
   "id": "2c6fc47a",
   "metadata": {},
   "outputs": [],
   "source": [
    "time_step = 0.01\n",
    "max_time = 90\n",
    "carrying_capacity = 100*min(orcaValue1.deathRate, sealValue1.deathRate, penguinValue1.deathRate)"
   ]
  },
  {
   "cell_type": "markdown",
   "id": "7890592b",
   "metadata": {},
   "source": [
    "Functions that change the population of each organism based on birth and death rates."
   ]
  },
  {
   "cell_type": "code",
   "execution_count": 20,
   "id": "85f526b0",
   "metadata": {},
   "outputs": [],
   "source": [
    "def orca_population():\n",
    "    gain = orcaValue1.birthRate * orcaValue1.population\n",
    "    loss = orcaValue1.deathRate * orcaValue1.population*(orcaValue1.population + sealValue1.population + penguinValue1.population)/float(carrying_capacity)\n",
    "    change = (gain - loss)*time_step\n",
    "    return change"
   ]
  },
  {
   "cell_type": "code",
   "execution_count": 21,
   "id": "21050d56",
   "metadata": {},
   "outputs": [],
   "source": [
    "def seal_population():\n",
    "    gain = seal.birthRate * seal.population #birth_rate*population\n",
    "    loss = seal.deathRate * seal.population*(orca.population + seal.population + penguin.population)/float(carrying_capacity)\n",
    "    change = (gain - loss)*time_step\n",
    "    return change"
   ]
  },
  {
   "cell_type": "code",
   "execution_count": 22,
   "id": "14a653eb",
   "metadata": {},
   "outputs": [],
   "source": [
    "def penguin_population():\n",
    "    gain = penguin.birthRate * penguin.population #birth_rate*population\n",
    "    loss = penguin.deathRate * penguin.population*(orca.population + seal.population + penguin.population)/float(carrying_capacity)\n",
    "    change = (gain - loss)*time_step\n",
    "    return change"
   ]
  },
  {
   "cell_type": "markdown",
   "id": "c9846c93",
   "metadata": {},
   "source": [
    "Run the simulation and update population values."
   ]
  },
  {
   "cell_type": "code",
   "execution_count": 27,
   "id": "aebc3629",
   "metadata": {},
   "outputs": [
    {
     "ename": "TypeError",
     "evalue": "unsupported operand type(s) for +=: 'function' and 'float'",
     "output_type": "error",
     "traceback": [
      "\u001b[0;31m---------------------------------------------------------------------------\u001b[0m",
      "\u001b[0;31mTypeError\u001b[0m                                 Traceback (most recent call last)",
      "\u001b[0;32m/var/folders/g2/t7_d5wh97v1727q58fl5_vbm0000gn/T/ipykernel_37556/2520902614.py\u001b[0m in \u001b[0;36m<module>\u001b[0;34m\u001b[0m\n\u001b[1;32m      3\u001b[0m     \u001b[0mtime\u001b[0m \u001b[0;34m=\u001b[0m \u001b[0mi\u001b[0m\u001b[0;34m+\u001b[0m\u001b[0mtime_step\u001b[0m\u001b[0;34m\u001b[0m\u001b[0;34m\u001b[0m\u001b[0m\n\u001b[1;32m      4\u001b[0m \u001b[0;34m\u001b[0m\u001b[0m\n\u001b[0;32m----> 5\u001b[0;31m     \u001b[0morca_population\u001b[0m \u001b[0;34m+=\u001b[0m \u001b[0morca_population\u001b[0m\u001b[0;34m(\u001b[0m\u001b[0;34m)\u001b[0m\u001b[0;34m\u001b[0m\u001b[0;34m\u001b[0m\u001b[0m\n\u001b[0m\u001b[1;32m      6\u001b[0m     \u001b[0mseal_population\u001b[0m \u001b[0;34m+=\u001b[0m \u001b[0mseal_population\u001b[0m\u001b[0;34m(\u001b[0m\u001b[0;34m)\u001b[0m\u001b[0;34m\u001b[0m\u001b[0;34m\u001b[0m\u001b[0m\n\u001b[1;32m      7\u001b[0m     \u001b[0mpenguin_population\u001b[0m \u001b[0;34m+=\u001b[0m \u001b[0mpenguin_population\u001b[0m\u001b[0;34m(\u001b[0m\u001b[0;34m)\u001b[0m\u001b[0;34m\u001b[0m\u001b[0;34m\u001b[0m\u001b[0m\n",
      "\u001b[0;31mTypeError\u001b[0m: unsupported operand type(s) for +=: 'function' and 'float'"
     ]
    }
   ],
   "source": [
    "iterations = int(float(max_time)/float(time_step))+1\n",
    "for i in range (iterations):\n",
    "    time = i+time_step\n",
    "    \n",
    "    orca_population += orca_population()\n",
    "    seal_population += seal_population()\n",
    "    penguin_population += penguin_population()\n",
    "    t.append(time)\n",
    "    orcaData.append(orca_population)\n",
    "    sealData.append(seal_population)\n",
    "    penguinData.append(penguin_population)"
   ]
  },
  {
   "cell_type": "markdown",
   "id": "6466fb10",
   "metadata": {},
   "source": [
    "Try/except block? - may not be required"
   ]
  },
  {
   "cell_type": "code",
   "execution_count": null,
   "id": "e150c1ac",
   "metadata": {},
   "outputs": [],
   "source": [
    "try:\n",
    "    if \n",
    "        raise ValueError\n",
    "except ValueError:\n",
    "    print(\"Enter a valid death rate.\")"
   ]
  },
  {
   "cell_type": "markdown",
   "id": "f43161cf",
   "metadata": {},
   "source": [
    "Graph the results of population change over time."
   ]
  },
  {
   "cell_type": "code",
   "execution_count": null,
   "id": "7cce7403",
   "metadata": {},
   "outputs": [],
   "source": [
    "#Orca Population\n",
    "plt.plot([10,20,30,40,50,60,70,80,90], [orca])\n",
    "plt.xlabel(\"Time (Years)\")\n",
    "plt.ylabel(\"Population\")\n",
    "plt.title(\"Orca Population\")\n",
    "plt.show()"
   ]
  },
  {
   "cell_type": "code",
   "execution_count": null,
   "id": "10207b6c",
   "metadata": {},
   "outputs": [],
   "source": [
    "#Seal Population\n",
    "plt.plot([10,20,30,40,50,60,70,80,90], [seal])\n",
    "plt.xlabel(\"Time (Years)\")\n",
    "plt.ylabel(\"Population\")\n",
    "plt.title(\"Seal Population\")\n",
    "plt.show()"
   ]
  },
  {
   "cell_type": "code",
   "execution_count": null,
   "id": "ec8fbdbf",
   "metadata": {},
   "outputs": [],
   "source": [
    "#Penguin Population\n",
    "plt.plot([10,20,30,40,50,60,70,80,90], [penguin])\n",
    "plt.xlabel(\"Time (Years)\")\n",
    "plt.ylabel(\"Population\")\n",
    "plt.title(\"Penguin Population\")\n",
    "plt.show()"
   ]
  },
  {
   "cell_type": "code",
   "execution_count": null,
   "id": "eb233b72",
   "metadata": {},
   "outputs": [],
   "source": [
    "#All 3 Populations\n",
    "x = [10,20,30,40,50,60,70,80,90]\n",
    "y1 = [orca]\n",
    "y2 = [seal]\n",
    "y3 = [penguin]\n",
    "plt.title(\"Average Populations in a Predator-Prey Food Chain\")\n",
    "plt.xlabel(\"Time (Years)\")\n",
    "plt.ylabel(\"Population\")\n",
    "plt.gca().legend(('y1','y2','y3'))\n",
    "plt.plot(x, y1, \"-r\", label =\"Orcas\")\n",
    "plt.plot(x, y2, \"-b\", label =\"Seals\")\n",
    "plt.plot(x, y3, \"-g\", label =\"Penguins\")"
   ]
  }
 ],
 "metadata": {
  "kernelspec": {
   "display_name": "Python 3 (ipykernel)",
   "language": "python",
   "name": "python3"
  },
  "language_info": {
   "codemirror_mode": {
    "name": "ipython",
    "version": 3
   },
   "file_extension": ".py",
   "mimetype": "text/x-python",
   "name": "python",
   "nbconvert_exporter": "python",
   "pygments_lexer": "ipython3",
   "version": "3.9.7"
  }
 },
 "nbformat": 4,
 "nbformat_minor": 5
}
